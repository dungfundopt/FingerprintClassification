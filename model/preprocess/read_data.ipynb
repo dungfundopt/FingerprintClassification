{
 "cells": [
  {
   "cell_type": "code",
   "execution_count": null,
   "metadata": {},
   "outputs": [],
   "source": []
  },
  {
   "cell_type": "code",
   "execution_count": null,
   "metadata": {},
   "outputs": [],
   "source": [
    "output_folder = \"C:\\\\Users\\\\ADMIN\\\\FingerprintClassification\\\\model\\\\preprocessed_fingerprint\"\n",
    "os.makedirs(output_folder, exist_ok=True)"
   ]
  },
  {
   "cell_type": "code",
   "execution_count": null,
   "metadata": {},
   "outputs": [],
   "source": [
    "id_anh=0\n",
    "for i in range(len(X)):\n",
    "        abc = preprocessing_normal(X[i])\n",
    "        id_anh+=1\n",
    "        output_path = os.path.join(output_folder, f\"{id_anh}.png\")\n",
    "        cv2.imwrite(output_path, abc)"
   ]
  }
 ],
 "metadata": {
  "language_info": {
   "name": "python"
  }
 },
 "nbformat": 4,
 "nbformat_minor": 2
}
