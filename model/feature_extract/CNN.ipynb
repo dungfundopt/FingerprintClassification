{
 "cells": [
  {
   "cell_type": "code",
   "execution_count": 11,
   "metadata": {},
   "outputs": [],
   "source": [
    "import cv2\n",
    "import numpy as np\n",
    "from tensorflow.keras.models import load_model\n",
    "import os\n"
   ]
  },
  {
   "cell_type": "code",
   "execution_count": 6,
   "metadata": {},
   "outputs": [],
   "source": [
    "input_dir = \"C:\\\\Users\\\\Admin\\\\FingerprintClassification\\\\testjuan\""
   ]
  },
  {
   "cell_type": "code",
   "execution_count": 9,
   "metadata": {},
   "outputs": [
    {
     "name": "stderr",
     "output_type": "stream",
     "text": [
      "WARNING:absl:Compiled the loaded model, but the compiled metrics have yet to be built. `model.compile_metrics` will be empty until you train or evaluate the model.\n"
     ]
    }
   ],
   "source": [
    "# Tải mô hình (giả sử đã có)\n",
    "model = load_model(\"C:\\\\Users\\\\Admin\\\\FingerprintClassification\\\\model\\\\ml_data\\\\finall_fingerprint_cnn.h5\")"
   ]
  },
  {
   "cell_type": "code",
   "execution_count": 12,
   "metadata": {},
   "outputs": [
    {
     "name": "stdout",
     "output_type": "stream",
     "text": [
      "C:\\Users\\Admin\\FingerprintClassification\\testjuan\\r0.jpg\n",
      "\u001b[1m1/1\u001b[0m \u001b[32m━━━━━━━━━━━━━━━━━━━━\u001b[0m\u001b[37m\u001b[0m \u001b[1m0s\u001b[0m 86ms/step\n",
      "[[1.0559727e-23]]\n",
      "0\n",
      "C:\\Users\\Admin\\FingerprintClassification\\testjuan\\r1.jpg\n",
      "\u001b[1m1/1\u001b[0m \u001b[32m━━━━━━━━━━━━━━━━━━━━\u001b[0m\u001b[37m\u001b[0m \u001b[1m0s\u001b[0m 35ms/step\n",
      "[[6.2298527e-24]]\n",
      "0\n",
      "C:\\Users\\Admin\\FingerprintClassification\\testjuan\\s0.png\n",
      "\u001b[1m1/1\u001b[0m \u001b[32m━━━━━━━━━━━━━━━━━━━━\u001b[0m\u001b[37m\u001b[0m \u001b[1m0s\u001b[0m 37ms/step\n",
      "[[0.9657861]]\n",
      "1\n",
      "C:\\Users\\Admin\\FingerprintClassification\\testjuan\\s01.png\n",
      "\u001b[1m1/1\u001b[0m \u001b[32m━━━━━━━━━━━━━━━━━━━━\u001b[0m\u001b[37m\u001b[0m \u001b[1m0s\u001b[0m 37ms/step\n",
      "[[0.01530592]]\n",
      "0\n",
      "C:\\Users\\Admin\\FingerprintClassification\\testjuan\\s1.png\n",
      "\u001b[1m1/1\u001b[0m \u001b[32m━━━━━━━━━━━━━━━━━━━━\u001b[0m\u001b[37m\u001b[0m \u001b[1m0s\u001b[0m 36ms/step\n",
      "[[1.]]\n",
      "1\n",
      "C:\\Users\\Admin\\FingerprintClassification\\testjuan\\s2.png\n",
      "\u001b[1m1/1\u001b[0m \u001b[32m━━━━━━━━━━━━━━━━━━━━\u001b[0m\u001b[37m\u001b[0m \u001b[1m0s\u001b[0m 38ms/step\n",
      "[[1.]]\n",
      "1\n",
      "C:\\Users\\Admin\\FingerprintClassification\\testjuan\\s4.jpg\n",
      "\u001b[1m1/1\u001b[0m \u001b[32m━━━━━━━━━━━━━━━━━━━━\u001b[0m\u001b[37m\u001b[0m \u001b[1m0s\u001b[0m 36ms/step\n",
      "[[3.4814851e-16]]\n",
      "0\n",
      "C:\\Users\\Admin\\FingerprintClassification\\testjuan\\s5.jpg\n",
      "\u001b[1m1/1\u001b[0m \u001b[32m━━━━━━━━━━━━━━━━━━━━\u001b[0m\u001b[37m\u001b[0m \u001b[1m0s\u001b[0m 34ms/step\n",
      "[[3.2755646e-28]]\n",
      "0\n",
      "C:\\Users\\Admin\\FingerprintClassification\\testjuan\\t1.png\n",
      "\u001b[1m1/1\u001b[0m \u001b[32m━━━━━━━━━━━━━━━━━━━━\u001b[0m\u001b[37m\u001b[0m \u001b[1m0s\u001b[0m 37ms/step\n",
      "[[0.9976538]]\n",
      "1\n",
      "C:\\Users\\Admin\\FingerprintClassification\\testjuan\\t3.png\n",
      "\u001b[1m1/1\u001b[0m \u001b[32m━━━━━━━━━━━━━━━━━━━━\u001b[0m\u001b[37m\u001b[0m \u001b[1m0s\u001b[0m 34ms/step\n",
      "[[0.34614938]]\n",
      "0\n",
      "C:\\Users\\Admin\\FingerprintClassification\\testjuan\\t4.png\n",
      "\u001b[1m1/1\u001b[0m \u001b[32m━━━━━━━━━━━━━━━━━━━━\u001b[0m\u001b[37m\u001b[0m \u001b[1m0s\u001b[0m 35ms/step\n",
      "[[0.9993807]]\n",
      "1\n",
      "C:\\Users\\Admin\\FingerprintClassification\\testjuan\\t5.png\n",
      "\u001b[1m1/1\u001b[0m \u001b[32m━━━━━━━━━━━━━━━━━━━━\u001b[0m\u001b[37m\u001b[0m \u001b[1m0s\u001b[0m 39ms/step\n",
      "[[0.]]\n",
      "0\n",
      "C:\\Users\\Admin\\FingerprintClassification\\testjuan\\t6.png\n",
      "\u001b[1m1/1\u001b[0m \u001b[32m━━━━━━━━━━━━━━━━━━━━\u001b[0m\u001b[37m\u001b[0m \u001b[1m0s\u001b[0m 34ms/step\n",
      "[[0.]]\n",
      "0\n"
     ]
    }
   ],
   "source": [
    "\n",
    "for label in os.listdir(input_dir):\n",
    "    input_path = os.path.join(input_dir, label)\n",
    "    print(input_path)\n",
    "\n",
    "    # Đọc ảnh, resize và chuẩn hóa\n",
    "    img = cv2.imread(input_path)\n",
    "    img = cv2.resize(img, (256, 256))\n",
    "    img = np.expand_dims(img, axis=0)  # Tạo thành một batch có 1 ảnh\n",
    "    img = img / 255.0\n",
    "\n",
    "    # Dự đoán\n",
    "    prediction = model.predict(img)\n",
    "    print(prediction)\n",
    "    # So sánh và in kết quả\n",
    "    if prediction >= 0.5:\n",
    "        print(1)\n",
    "    else:\n",
    "        print(0)"
   ]
  }
 ],
 "metadata": {
  "kernelspec": {
   "display_name": "Python 3",
   "language": "python",
   "name": "python3"
  },
  "language_info": {
   "codemirror_mode": {
    "name": "ipython",
    "version": 3
   },
   "file_extension": ".py",
   "mimetype": "text/x-python",
   "name": "python",
   "nbconvert_exporter": "python",
   "pygments_lexer": "ipython3",
   "version": "3.11.9"
  }
 },
 "nbformat": 4,
 "nbformat_minor": 2
}
