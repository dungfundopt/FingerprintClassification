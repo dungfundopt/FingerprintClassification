{
 "cells": [
  {
   "cell_type": "code",
   "execution_count": 11,
   "metadata": {},
   "outputs": [],
   "source": [
    "import os\n",
    "import cv2"
   ]
  },
  {
   "cell_type": "code",
   "execution_count": 30,
   "metadata": {},
   "outputs": [],
   "source": [
    "def crop_using_edges(image):\n",
    "    # Check if the image is grayscale (1 channel) or color (3 channels)\n",
    "    if len(image.shape) == 2:  # Grayscale image\n",
    "        gray = image  # No conversion needed\n",
    "    elif len(image.shape) == 3 and image.shape[2] == 3:  # Color image\n",
    "        gray = cv2.cvtColor(image, cv2.COLOR_BGR2GRAY)\n",
    "    else:\n",
    "        raise ValueError(\"Invalid image format: The image must be either grayscale or color (BGR).\")\n",
    "\n",
    "    #Apply Egde detection\n",
    "    edges = cv2.Canny(gray, 50, 150)\n",
    "\n",
    "    # Find contours\n",
    "    contours, _ = cv2.findContours(edges, cv2.RETR_EXTERNAL, cv2.CHAIN_APPROX_SIMPLE)\n",
    "    if contours:\n",
    "        # Get the bounding box of the largest contour\n",
    "        largest_contour = max(contours, key=cv2.contourArea)\n",
    "        x, y, w, h = cv2.boundingRect(largest_contour)\n",
    "        \n",
    "        # Crop the image to the bounding box\n",
    "        cropped_image = image[y:y+h, x:x+w]\n",
    "        return cropped_image\n",
    "    return image  # Return the original image if no contours are found"
   ]
  },
  {
   "cell_type": "code",
   "execution_count": 13,
   "metadata": {},
   "outputs": [],
   "source": [
    "def crop_fixed_border(image, top=10, bottom=10, left=10, right=10):\n",
    "    cropped_image = image[top:image.shape[0]-bottom, left:image.shape[1]-right]\n",
    "    return cropped_image"
   ]
  },
  {
   "cell_type": "code",
   "execution_count": 28,
   "metadata": {},
   "outputs": [],
   "source": [
    "def crop_using_contours(image):\n",
    "    # Check if the image is grayscale (1 channel) or color (3 channels)\n",
    "    if len(image.shape) == 2:  # Grayscale image\n",
    "        gray = image  # No conversion needed\n",
    "    elif len(image.shape) == 3 and image.shape[2] == 3:  # Color image\n",
    "        gray = cv2.cvtColor(image, cv2.COLOR_BGR2GRAY)\n",
    "    else:\n",
    "        raise ValueError(\"Invalid image format: The image must be either grayscale or color (BGR).\")\n",
    "\n",
    "    #Apply thresholding\n",
    "    _, binary = cv2.threshold(gray, 10, 255, cv2.THRESH_BINARY_INV)\n",
    "\n",
    "    # Find contours\n",
    "    contours, _ = cv2.findContours(binary, cv2.RETR_EXTERNAL, cv2.CHAIN_APPROX_SIMPLE)\n",
    "    if contours:\n",
    "        # Get the bounding box of the largest contour\n",
    "        x, y, w, h = cv2.boundingRect(max(contours, key=cv2.contourArea))\n",
    "        cropped_image = image[y:y+h, x:x+w]\n",
    "        return cropped_image\n",
    "    return image\n"
   ]
  },
  {
   "cell_type": "code",
   "execution_count": 15,
   "metadata": {},
   "outputs": [],
   "source": [
    "def crop_based_on_intensity(image, threshold=240):\n",
    "    # Convert to grayscale if necessary\n",
    "    gray = cv2.cvtColor(image, cv2.COLOR_BGR2GRAY) if len(image.shape) > 2 else image\n",
    "\n",
    "    # Threshold the background\n",
    "    _, mask = cv2.threshold(gray, threshold, 255, cv2.THRESH_BINARY_INV)\n",
    "\n",
    "    # Find contours in the mask\n",
    "    contours, _ = cv2.findContours(mask, cv2.RETR_EXTERNAL, cv2.CHAIN_APPROX_SIMPLE)\n",
    "    if contours:\n",
    "        # Get the bounding box of the largest contour\n",
    "        x, y, w, h = cv2.boundingRect(max(contours, key=cv2.contourArea))\n",
    "        cropped_image = image[y:y+h, x:x+w]\n",
    "        return cropped_image\n",
    "    return image\n"
   ]
  },
  {
   "cell_type": "code",
   "execution_count": null,
   "metadata": {},
   "outputs": [],
   "source": [
    "def crop_using_morphology(image):\n",
    "    # Check if the image is grayscale (1 channel) or color (3 channels)\n",
    "    if len(image.shape) == 2:  # Grayscale image\n",
    "        gray = image  # No conversion needed\n",
    "    elif len(image.shape) == 3 and image.shape[2] == 3:  # Color image\n",
    "        gray = cv2.cvtColor(image, cv2.COLOR_BGR2GRAY)\n",
    "    else:\n",
    "        raise ValueError(\"Invalid image format: The image must be either grayscale or color (BGR).\")\n",
    "    \n",
    "    # Apply thresholding\n",
    "    _, binary = cv2.threshold(gray, 10, 255, cv2.THRESH_BINARY_INV)\n",
    "    \n",
    "    # Morphological closing to connect ridge lines\n",
    "    kernel = cv2.getStructuringElement(cv2.MORPH_RECT, (5, 5))\n",
    "    closed = cv2.morphologyEx(binary, cv2.MORPH_CLOSE, kernel)\n",
    "    \n",
    "    # Find contours and crop based on the largest contour\n",
    "    contours, _ = cv2.findContours(closed, cv2.RETR_EXTERNAL, cv2.CHAIN_APPROX_SIMPLE)\n",
    "    if contours:\n",
    "        x, y, w, h = cv2.boundingRect(max(contours, key=cv2.contourArea))\n",
    "        cropped_image = image[y:y+h, x:x+w]\n",
    "        return cropped_image\n",
    "    return image\n"
   ]
  },
  {
   "cell_type": "code",
   "execution_count": 17,
   "metadata": {},
   "outputs": [],
   "source": [
    "def remove_border(image_path, crop_pixels=2):\n",
    "    # Load the image\n",
    "    image = cv2.imread(image_path, cv2.IMREAD_GRAYSCALE)\n",
    "    \n",
    "    # Apply a binary threshold to separate the fingerprint from the background\n",
    "    _, thresh = cv2.threshold(image, 10, 255, cv2.THRESH_BINARY)\n",
    "    \n",
    "    # Find contours of the thresholded image\n",
    "    contours, _ = cv2.findContours(thresh, cv2.RETR_EXTERNAL, cv2.CHAIN_APPROX_SIMPLE)\n",
    "    \n",
    "    # If no contours are found, return the original image\n",
    "    if not contours:\n",
    "        return image\n",
    "    \n",
    "    # Find the bounding rectangle of the largest contour\n",
    "    largest_contour = max(contours, key=cv2.contourArea)\n",
    "    x, y, w, h = cv2.boundingRect(largest_contour)\n",
    "    \n",
    "    # Adjust the coordinates to crop the specified number of pixels from the border\n",
    "    x = max(x + crop_pixels, 0)  # Ensure x does not go negative\n",
    "    y = max(y + crop_pixels, 0)  # Ensure y does not go negative\n",
    "    w = max(w - 2 * crop_pixels, 0)  # Reduce width\n",
    "    h = max(h - 2 * crop_pixels, 0)  # Reduce height\n",
    "    \n",
    "    # Crop the image to the adjusted bounding rectangle\n",
    "    cropped_image = image[y:y+h, x:x+w]\n",
    "    \n",
    "    return cropped_image\n"
   ]
  },
  {
   "cell_type": "code",
   "execution_count": 33,
   "metadata": {},
   "outputs": [],
   "source": [
    "image_path = \"SOCOFing\\\\Real\\\\597__M_Right_little_finger.BMP\"\n",
    "\n",
    "image = remove_border(image_path, 2)\n",
    "\n",
    "cropped_image1 = crop_using_morphology(image)\n",
    "cropped_image2 = crop_based_on_intensity(image)\n",
    "cropped_image3 = crop_fixed_border(image)\n",
    "cropped_image4 = crop_using_contours(image)\n",
    "cropped_image5 = crop_using_edges(image)\n",
    "\n",
    "# Resize window\n",
    "cv2.namedWindow(\"Morp\", cv2.WINDOW_NORMAL)\n",
    "cv2.namedWindow(\"Intensity\", cv2.WINDOW_NORMAL)\n",
    "cv2.namedWindow(\"Border\", cv2.WINDOW_NORMAL)\n",
    "cv2.namedWindow(\"Contours\", cv2.WINDOW_NORMAL)\n",
    "cv2.namedWindow(\"Edges\", cv2.WINDOW_NORMAL)\n",
    "\n",
    "# Display the cropped image\n",
    "cv2.imshow(\"Morp\", cropped_image1)\n",
    "cv2.imshow(\"Intensity\", cropped_image2)\n",
    "cv2.imshow(\"Border\", cropped_image3)\n",
    "cv2.imshow(\"Contours\", cropped_image4)\n",
    "cv2.imshow(\"Edges\", cropped_image5)\n",
    "\n",
    "cv2.waitKey(0)\n",
    "cv2.destroyAllWindows()\n"
   ]
  }
 ],
 "metadata": {
  "kernelspec": {
   "display_name": "Python 3",
   "language": "python",
   "name": "python3"
  },
  "language_info": {
   "codemirror_mode": {
    "name": "ipython",
    "version": 3
   },
   "file_extension": ".py",
   "mimetype": "text/x-python",
   "name": "python",
   "nbconvert_exporter": "python",
   "pygments_lexer": "ipython3",
   "version": "3.11.9"
  }
 },
 "nbformat": 4,
 "nbformat_minor": 2
}
