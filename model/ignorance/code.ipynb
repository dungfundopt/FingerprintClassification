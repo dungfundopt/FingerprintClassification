{
 "cells": [
  {
   "cell_type": "code",
   "execution_count": 1,
   "metadata": {},
   "outputs": [],
   "source": [
    "import os\n",
    "import cv2\n",
    "#import thư viện"
   ]
  },
  {
   "cell_type": "code",
   "execution_count": 2,
   "metadata": {},
   "outputs": [],
   "source": [
    "#đây là trích xuất đặc trưng sift của 6000 ảnh trong Real, lưu vào sifttrans với thứ tự là: \n",
    "#keypoint, mô tả của keypoint, ảnh và tên ảnh cho mỗi ảnh\n",
    "sifttrans = []\n",
    "for file in os.listdir(\"SOCOFing\\\\Real\")[:6500]:\n",
    "    aaa = cv2.imread(\"SOCOFing\\\\Real\\\\\"+ file)\n",
    "    filee=file[:-4]\n",
    "    a = cv2.cvtColor(aaa, cv2.COLOR_BGR2GRAY)\n",
    "    sift = cv2.SIFT_create()\n",
    "    keypnt, destor = sift.detectAndCompute(a, None)\n",
    "    sifttrans.append([keypnt, destor, a,filee ])"
   ]
  },
  {
   "cell_type": "code",
   "execution_count": 3,
   "metadata": {},
   "outputs": [],
   "source": [
    "#đây là hàm kiểm tra ảnh bị chỉnh sửa với toàn bộ ảnh trong file real, ngưỡng chấp nhận là 0.1 với k=2 trong Flann\n",
    "def kiemtra(keypoints_1, descriptors_1, kp_reall, best_scoree, filenamee, imagee_real, mpp, mlem, mlemm):\n",
    "    \n",
    "    for file in sifttrans:\n",
    "    \n",
    "        fingerprint_image = file[2]\n",
    "\n",
    "        matches = cv2.FlannBasedMatcher({'algorithm':1, 'trees':10},\n",
    "                                        {}).knnMatch(descriptors_1, file[1], k=2)\n",
    "        \n",
    "        match_points = []\n",
    "\n",
    "        for p, q in matches:\n",
    "            #print(p.distance, '', q.distance)\n",
    "            if p.distance <0.1 * q.distance:\n",
    "                match_points.append(p)\n",
    "\n",
    "        keypoints = 0\n",
    "        if len(keypoints_1) < len(file[0]):\n",
    "            keypoints = len(keypoints_1)\n",
    "        else:\n",
    "            keypoints = len(file[0])\n",
    "        if len(match_points) / keypoints*10 >= best_scoree:\n",
    "            #print(best_score)\n",
    "            best_scoree = len(match_points)/keypoints*10\n",
    "            filenamee = file[3]\n",
    "            imagee_real = fingerprint_image\n",
    "            mlem = len(match_points)\n",
    "            mlemm = keypoints\n",
    "            kp_reall, mpp = file[0], match_points\n",
    "        #sodem+=1\n",
    "    return kp_reall, best_scoree, filenamee, imagee_real, mpp, mlem, mlemm\n"
   ]
  },
  {
   "cell_type": "code",
   "execution_count": 5,
   "metadata": {},
   "outputs": [],
   "source": [
    "\n",
    "#đây là hàm đọc ảnh biến dạng và trích xuất đặc trưng của nó,gọi hàm kiemtra và in ra màn hình minutiae tương ứng với ảnh có best_score cao nhất\n",
    "def xacthuc(tenanh):\n",
    "    best_score = 0\n",
    "    filename = None\n",
    "    image_real = None\n",
    "    kp_real, mp = None, None\n",
    "    lem=0\n",
    "    lemm=0\n",
    "    #bb=cv2.imread(\"SOCOFing\\\\Altered\\\\Altered-Medium\\\\\"+tenanh)\n",
    "    bb=cv2.imread(tenanh)\n",
    "    b = cv2.cvtColor(bb, cv2.COLOR_BGR2GRAY)\n",
    "    sift = cv2.SIFT_create()\n",
    "    keypont, destoor = sift.detectAndCompute(b, None)\n",
    "    kp_real, best_score, filename, image_real, mp, lem, lemm=kiemtra( keypont, destoor,kp_real , best_score, filename, image_real, mp,lem, lemm)\n",
    "    print(filename, \" \", tenanh,\" \", lem, \" \", lemm,\" \", best_score)\n",
    "    if(filename in tenanh):\n",
    "        #cayvaidai=cv2.imread()\n",
    "        result = cv2.drawMatches(b, keypont, image_real, kp_real, mp, None)\n",
    "        result = cv2.resize(result, None, fx=4, fy=4)\n",
    "        cv2.imshow(\"results\", result)\n",
    "        cv2.waitKey(0)\n",
    "        cv2.destroyAllWindows()\n"
   ]
  },
  {
   "cell_type": "code",
   "execution_count": 45,
   "metadata": {},
   "outputs": [
    {
     "name": "stdout",
     "output_type": "stream",
     "text": [
      "Accuracy on Easy test is: 3.3333333333333335\n"
     ]
    }
   ],
   "source": [
    "#đây là hàm kiểm tra độ chính xác trên toàn bộ tập alter, tuy nhiên chạy quá lâu 10 ảnh mất tầm 1 phút\n",
    "#trong khi đó mỗi ảnh trong file real có 3 loại biến dạng trong file alter, nghĩa là \n",
    "#alter-easy, alter-medium và alter-hard mỗi file này có 18000 ảnh\n",
    "#nếu lấy từng ảnh so sánh với 6000 trong file real để đo các chỉ số như accuracy, far, frr thì ...\n",
    "#sifttrans_easy = []\n",
    "accuracy_score_easy = 0\n",
    "for file in os.listdir(\"SOCOFing\\\\Altered\\\\Altered-Hard\")[:10]:\n",
    "    aaa = cv2.imread(\"SOCOFing\\\\Altered\\\\Altered-Hard\\\\\"+ file)\n",
    "    filee=file[:-4]\n",
    "    a = cv2.cvtColor(aaa, cv2.COLOR_BGR2GRAY)\n",
    "    sift = cv2.SIFT_create()\n",
    "    keypnt, destor = sift.detectAndCompute(a, None)\n",
    "    #sifttrans_easy.append([keypnt, destor, a,filee ])\n",
    "    if(kiemtra(keypnt, destor) in filee):\n",
    "        accuracy_score_easy+=1\n",
    "print(\"Accuracy on Easy test is: \"+str(accuracy_score_easy/3))\n",
    "    "
   ]
  },
  {
   "cell_type": "code",
   "execution_count": 21,
   "metadata": {},
   "outputs": [
    {
     "name": "stdout",
     "output_type": "stream",
     "text": [
      "BEST MATCH:100__M_Left_index_finger\n",
      "Score: 4.722222222222222\n",
      "17\n",
      "36\n"
     ]
    }
   ],
   "source": [
    "#đừng quan tâm\n",
    "print(\"BEST MATCH:\" + filename)\n",
    "print(\"Score: \" + str(best_score))\n",
    "print(lem)\n",
    "print(lemm)\n",
    "#image = cv2.imread(\"SOCOFing\\\\Real\\\\1__M_Left_index_finger_CR.BMP\")\n",
    "if mp==None:\n",
    "    result = cv2.drawMatches(sample, kp1, image, kp2,None)\n",
    "    result = cv2.resize(result, None, fx=4, fy=4)\n",
    "else:\n",
    "    result = cv2.drawMatches(sample, kp1, image, kp2, mp, None)\n",
    "    result = cv2.resize(result, None, fx=4, fy=4)\n",
    "cv2.imshow(\"results\", result)\n",
    "cv2.waitKey(0)\n",
    "cv2.destroyAllWindows()\n"
   ]
  }
 ],
 "metadata": {
  "kernelspec": {
   "display_name": "Python 3",
   "language": "python",
   "name": "python3"
  },
  "language_info": {
   "codemirror_mode": {
    "name": "ipython",
    "version": 3
   },
   "file_extension": ".py",
   "mimetype": "text/x-python",
   "name": "python",
   "nbconvert_exporter": "python",
   "pygments_lexer": "ipython3",
   "version": "3.11.9"
  }
 },
 "nbformat": 4,
 "nbformat_minor": 2
}
