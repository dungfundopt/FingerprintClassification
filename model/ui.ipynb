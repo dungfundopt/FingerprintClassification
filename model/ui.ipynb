{
 "cells": [
  {
   "cell_type": "code",
   "execution_count": 1,
   "metadata": {},
   "outputs": [],
   "source": [
    "import tkinter as tk\n",
    "from tkinter import filedialog\n",
    "from PIL import Image, ImageTk\n",
    "import os\n",
    "import pickle\n",
    "#import thư viện cần thiết\n"
   ]
  },
  {
   "cell_type": "code",
   "execution_count": 2,
   "metadata": {},
   "outputs": [],
   "source": [
    "os.chdir(\"C:\\\\Users\\\\Admin\\\\Fingerprint_Recognition_GROUP8\\\\model\")"
   ]
  },
  {
   "cell_type": "code",
   "execution_count": 2,
   "metadata": {},
   "outputs": [
    {
     "name": "stdout",
     "output_type": "stream",
     "text": [
      "c:\\Users\\ADMIN\\Fingerprint_Recognition_GROUP8\\model\n"
     ]
    }
   ],
   "source": [
    "print(os.getcwd())"
   ]
  },
  {
   "cell_type": "code",
   "execution_count": 2,
   "metadata": {},
   "outputs": [
    {
     "name": "stdout",
     "output_type": "stream",
     "text": [
      "Mô hình đã được tải:  C:/Users/ADMIN/Fingerprint_Recognition_GROUP8/model/ml_data/rf.pkl\n"
     ]
    }
   ],
   "source": [
    "def load_model():\n",
    "    # Mở hộp thoại chọn file\n",
    "    file_path = filedialog.askopenfilename(initialdir=\"ml_data\",\n",
    "                                          filetypes=[(\"Pickle files\", \"*.pkl\")])\n",
    "\n",
    "    if file_path:\n",
    "        # Load mô hình\n",
    "        with open(file_path, 'rb') as f:\n",
    "            model = pickle.load(f)\n",
    "        \n",
    "        # Hiển thị thông báo hoặc thực hiện các tác vụ khác với mô hình đã load\n",
    "        print(\"Mô hình đã được tải: \", file_path)\n",
    "        # ...\n",
    "\n",
    "# Tạo cửa sổ chính\n",
    "root = tk.Tk()\n",
    "root.title(\"Ứng dụng Load Mô Hình\")\n",
    "\n",
    "# Tạo nút\n",
    "load_button = tk.Button(root, text=\"Load Mô Hình\", command=load_model)\n",
    "load_button.pack()\n",
    "\n",
    "root.mainloop()"
   ]
  },
  {
   "cell_type": "code",
   "execution_count": null,
   "metadata": {},
   "outputs": [],
   "source": [
    "with open('ml_datamodel.pkl', 'rb') as f:\n",
    "    model = pickle.load(f)\n",
    "\n",
    "# Hàm tiền xử lý ảnh\n",
    "def preprocess_image(image_path):\n",
    "    # Load ảnh, resize, normalize, ...\n",
    "    img = Image.open(image_path)\n",
    "    img = img.resize((224, 224))  # Ví dụ resize thành 224x224\n",
    "    img_array = np.array(img) / 255.0\n",
    "    img_array = np.expand_dims(img_array, axis=0)\n",
    "    return img_array\n",
    "\n",
    "# Hàm dự đoán\n",
    "def predict(image_path):\n",
    "    img_array = preprocess_image(image_path)\n",
    "    prediction = model.predict(img_array)\n",
    "    # Xử lý kết quả dự đoán\n",
    "    return prediction\n",
    "\n",
    "# Tạo cửa sổ\n",
    "root = tk.Tk()\n",
    "root.title(\"Ứng dụng dự đoán ảnh\")\n",
    "\n",
    "# Nút chọn ảnh\n",
    "def open_file():\n",
    "    file_path = filedialog.askopenfilename()\n",
    "    if file_path:\n",
    "        # Hiển thị ảnh đã chọn\n",
    "        img = Image.open(file_path)\n",
    "        img = img.resize((200, 200))\n",
    "        img = ImageTk.PhotoImage(img)\n",
    "        panel = tk.Label(root, image=img)\n",
    "        panel.image = img\n",
    "        panel.pack()\n",
    "\n",
    "        # Dự đoán\n",
    "        result = predict(file_path)\n",
    "        # Hiển thị kết quả\n",
    "        label_result = tk.Label(root, text=f\"Kết quả dự đoán: {result}\")\n",
    "        label_result.pack()\n",
    "\n",
    "button = tk.Button(root, text=\"Chọn ảnh\", command=open_file)\n",
    "button.pack()\n",
    "\n",
    "root.mainloop()"
   ]
  },
  {
   "cell_type": "code",
   "execution_count": 2,
   "metadata": {},
   "outputs": [
    {
     "name": "stdout",
     "output_type": "stream",
     "text": [
      "\n",
      "SOCOFing/Altered/Altered-Hard/402__M_Left_thumb_finger_CR.BMP\n",
      "SOCOFing\\\\Altered\\\\Altered-Hard\\\\402__M_Left_thumb_finger_CR.BMP\n",
      "402__M_Left_thumb_finger   SOCOFing\\\\Altered\\\\Altered-Hard\\\\402__M_Left_thumb_finger_CR.BMP   34   100   3.4000000000000004\n",
      "SOCOFing/Altered/Altered-Hard/271__M_Right_little_finger_Obl.BMP\n",
      "SOCOFing\\\\Altered\\\\Altered-Hard\\\\271__M_Right_little_finger_Obl.BMP\n",
      "271__M_Right_little_finger   SOCOFing\\\\Altered\\\\Altered-Hard\\\\271__M_Right_little_finger_Obl.BMP   2   22   0.9090909090909092\n"
     ]
    }
   ],
   "source": [
    "#có 2 nút là chọn ảnh, bên trái là chọn ảnh .bmp bất kì\n",
    "#sau đó thực hiện kiểm tra, gọi hàm xác thực sử dụng nút bên phải(in ra 2 ảnh vân tay có best_score cao nhất)\n",
    "root = tk.Tk()\n",
    "root.title(\"Chọn Ảnh\")\n",
    "ten_anh=\"\"\n",
    "def chon_anh():\n",
    "    global ten_anh\n",
    "    file_path = filedialog.askopenfilename(initialdir=\"/\", title=\"Chọn ảnh\", filetypes=[(\"Image Files\", \"*.bmp\")])\n",
    "    if file_path:\n",
    "        #ten_anh = file_path.split(\"/\")[-1]\n",
    "        #ten_anh = file_path\n",
    "        start_index = file_path.find(\"SOCOFing\")\n",
    "        #print(start_index)\n",
    "        ten_anh = file_path[start_index:]\n",
    "        label_ket_qua.config(text=\"Bạn đã chọn: \" + ten_anh)\n",
    "        print(ten_anh)\n",
    "        ten_anh = ten_anh.replace(\"/\", \"\\\\\\\\\")\n",
    "        print(ten_anh)\n",
    "        # Mở ảnh và hiển thị\n",
    "        img = Image.open(file_path)\n",
    "        img = img.resize((200, 200))  # Thay đổi kích thước ảnh (tùy chọn)\n",
    "        photo = ImageTk.PhotoImage(img)\n",
    "        label_anh.config(image=photo)\n",
    "        label_anh.image = photo  # Lưu tham chiếu để tránh bị garbage collection\n",
    "    return ten_anh\n",
    "root.title(\"Chọn Ảnh\")\n",
    "\n",
    "# Label để hiển thị ảnh\n",
    "label_anh = tk.Label(root)\n",
    "label_anh.pack(side=\"top\")\n",
    "\n",
    "# Nút chọn ảnh\n",
    "button1 = tk.Button(root, text=\"Chọn Ảnh\", command=chon_anh)\n",
    "button1.pack(side=\"left\")\n",
    "\n",
    "# Nút xác thực ảnh\n",
    "#print(ten_anh)\n",
    "button2 = tk.Button(root, text=\"Bắt đầu kiểm tra\", command=lambda: xacthuc(ten_anh))\n",
    "button2.pack(side=\"right\")\n",
    "# Label hiển thị kết quả\n",
    "label_ket_qua = tk.Label(root, text=\"\")\n",
    "label_ket_qua.pack()\n",
    "\n",
    "root.mainloop()"
   ]
  }
 ],
 "metadata": {
  "kernelspec": {
   "display_name": "Python 3",
   "language": "python",
   "name": "python3"
  },
  "language_info": {
   "codemirror_mode": {
    "name": "ipython",
    "version": 3
   },
   "file_extension": ".py",
   "mimetype": "text/x-python",
   "name": "python",
   "nbconvert_exporter": "python",
   "pygments_lexer": "ipython3",
   "version": "3.11.9"
  }
 },
 "nbformat": 4,
 "nbformat_minor": 2
}
